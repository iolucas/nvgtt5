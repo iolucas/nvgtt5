{
 "cells": [
  {
   "cell_type": "code",
   "execution_count": 50,
   "metadata": {
    "collapsed": false
   },
   "outputs": [],
   "source": [
    "#Module to get wikipedia pages\n",
    "import wikipydia\n",
    "\n",
    "#Module to render html on notebook\n",
    "from IPython.core.display import HTML\n",
    "\n",
    "#Module to render graphics\n",
    "import matplotlib.pyplot as plt\n",
    "# Config the matplotlib backend as plotting inline in IPython\n",
    "%matplotlib inline\n",
    "\n",
    "#User default dict because it generates a default value according to the datatype not found\n",
    "from collections import defaultdict\n",
    "\n",
    "import re"
   ]
  },
  {
   "cell_type": "code",
   "execution_count": 51,
   "metadata": {
    "collapsed": false,
    "scrolled": true
   },
   "outputs": [],
   "source": [
    "#Get data from wikipedia\n",
    "pageData = wikipydia.getPage(\"MQTT\")"
   ]
  },
  {
   "cell_type": "code",
   "execution_count": 52,
   "metadata": {
    "collapsed": false
   },
   "outputs": [
    {
     "data": {
      "text/html": [
       "[[<table class=\"vertical-navbox nowraplinks hlist\" style=\"float:right;clear:right;width:22.0em;margin:0 0 1.0em 1.0em;background:#f9f9f9;border:1px solid #aaa;padding:0.2em;border-spacing:0.4em 0;text-align:center;line-height:1.4em;font-size:88%\">\\n<tr>\\n<th style=\"padding:0.2em 0.4em 0.2em;font-size:145%;line-height:1.2em\"><a href=\"/wiki/Internet_protocol_suite\" title=\"Internet protocol suite\">Internet protocol suite</a></th>\\n</tr>\\n<tr>\\n<th style=\"padding:0.1em\"><a href=\"/wiki/Application_layer\" title=\"Application layer\">Application layer</a></th>\\n</tr>\\n<tr>\\n<td style=\"padding:0 0.1em 0.4em\">\\n<ul>\\n<li><a href=\"/wiki/Border_Gateway_Protocol\" title=\"Border Gateway Protocol\">BGP</a></li>\\n<li><a href=\"/wiki/Dynamic_Host_Configuration_Protocol\" title=\"Dynamic Host Configuration Protocol\">DHCP</a></li>\\n<li><a href=\"/wiki/Domain_Name_System\" title=\"Domain Name System\">DNS</a></li>\\n<li><a href=\"/wiki/File_Transfer_Protocol\" title=\"File Transfer Protocol\">FTP</a></li>\\n<li><a href=\"/wiki/Hypertext_Transfer_Protocol\" title=\"Hypertext Transfer Protocol\">HTTP</a></li>\\n<li><a href=\"/wiki/Internet_Message_Access_Protocol\" title=\"Internet Message Access Protocol\">IMAP</a></li>\\n<li><a href=\"/wiki/Lightweight_Directory_Access_Protocol\" title=\"Lightweight Directory Access Protocol\">LDAP</a></li>\\n<li><a href=\"/wiki/Media_Gateway_Control_Protocol\" title=\"Media Gateway Control Protocol\">MGCP</a></li>\\n<li><a href=\"/wiki/Network_News_Transfer_Protocol\" title=\"Network News Transfer Protocol\">NNTP</a></li>\\n<li><a href=\"/wiki/Network_Time_Protocol\" title=\"Network Time Protocol\">NTP</a></li>\\n<li><a href=\"/wiki/Post_Office_Protocol\" title=\"Post Office Protocol\">POP</a></li>\\n<li><a href=\"/wiki/Open_Network_Computing_Remote_Procedure_Call\" title=\"Open Network Computing Remote Procedure Call\">ONC/RPC</a></li>\\n<li><a href=\"/wiki/Real-time_Transport_Protocol\" title=\"Real-time Transport Protocol\">RTP</a></li>\\n<li><a href=\"/wiki/Real_Time_Streaming_Protocol\" title=\"Real Time Streaming Protocol\">RTSP</a></li>\\n<li><a href=\"/wiki/Routing_Information_Protocol\" title=\"Routing Information Protocol\">RIP</a></li>\\n<li><a href=\"/wiki/Session_Initiation_Protocol\" title=\"Session Initiation Protocol\">SIP</a></li>\\n<li><a href=\"/wiki/Simple_Mail_Transfer_Protocol\" title=\"Simple Mail Transfer Protocol\">SMTP</a></li>\\n<li><a href=\"/wiki/Simple_Network_Management_Protocol\" title=\"Simple Network Management Protocol\">SNMP</a></li>\\n<li><a href=\"/wiki/Secure_Shell\" title=\"Secure Shell\">SSH</a></li>\\n<li><a href=\"/wiki/Telnet\" title=\"Telnet\">Telnet</a></li>\\n<li><a href=\"/wiki/Transport_Layer_Security\" title=\"Transport Layer Security\">TLS/SSL</a></li>\\n<li><a href=\"/wiki/XMPP\" title=\"XMPP\">XMPP</a></li>\\n<li><a href=\"/wiki/Category:Application_layer_protocols\" title=\"Category:Application layer protocols\"><i>more...</i></a></li>\\n</ul>\\n</td>\\n</tr>\\n<tr>\\n<th style=\"padding:0.1em\"><a href=\"/wiki/Transport_layer\" title=\"Transport layer\">Transport layer</a></th>\\n</tr>\\n<tr>\\n<td style=\"padding:0 0.1em 0.4em\">\\n<ul>\\n<li><a href=\"/wiki/Transmission_Control_Protocol\" title=\"Transmission Control Protocol\">TCP</a></li>\\n<li><a href=\"/wiki/User_Datagram_Protocol\" title=\"User Datagram Protocol\">UDP</a></li>\\n<li><a href=\"/wiki/Datagram_Congestion_Control_Protocol\" title=\"Datagram Congestion Control Protocol\">DCCP</a></li>\\n<li><a href=\"/wiki/Stream_Control_Transmission_Protocol\" title=\"Stream Control Transmission Protocol\">SCTP</a></li>\\n<li><a href=\"/wiki/Resource_Reservation_Protocol\" title=\"Resource Reservation Protocol\">RSVP</a></li>\\n<li><a href=\"/wiki/Category:Transport_layer_protocols\" title=\"Category:Transport layer protocols\"><i>more...</i></a></li>\\n</ul>\\n</td>\\n</tr>\\n<tr>\\n<th style=\"padding:0.1em\"><a href=\"/wiki/Internet_layer\" title=\"Internet layer\">Internet layer</a></th>\\n</tr>\\n<tr>\\n<td style=\"padding:0 0.1em 0.4em\">\\n<ul>\\n<li><a href=\"/wiki/Internet_Protocol\" title=\"Internet Protocol\">IP</a>\\n<ul>\\n<li><a href=\"/wiki/IPv4\" title=\"IPv4\">IPv4</a></li>\\n<li><a href=\"/wiki/IPv6\" title=\"IPv6\">IPv6</a></li>\\n</ul>\\n</li>\\n<li><a href=\"/wiki/Internet_Control_Message_Protocol\" title=\"Internet Control Message Protocol\">ICMP</a></li>\\n<li><a class=\"mw-redirect\" href=\"/wiki/ICMPv6\" title=\"ICMPv6\">ICMPv6</a></li>\\n<li><a href=\"/wiki/Explicit_Congestion_Notification\" title=\"Explicit Congestion Notification\">ECN</a></li>\\n<li><a href=\"/wiki/Internet_Group_Management_Protocol\" title=\"Internet Group Management Protocol\">IGMP</a></li>\\n<li><a href=\"/wiki/IPsec\" title=\"IPsec\">IPsec</a></li>\\n<li><a href=\"/wiki/Category:Internet_layer_protocols\" title=\"Category:Internet layer protocols\"><i>more...</i></a></li>\\n</ul>\\n</td>\\n</tr>\\n<tr>\\n<th style=\"padding:0.1em\"><a href=\"/wiki/Link_layer\" title=\"Link layer\">Link layer</a></th>\\n</tr>\\n<tr>\\n<td style=\"padding:0 0.1em 0.4em\">\\n<ul>\\n<li><a href=\"/wiki/Address_Resolution_Protocol\" title=\"Address Resolution Protocol\">ARP</a></li>\\n<li><a href=\"/wiki/Neighbor_Discovery_Protocol\" title=\"Neighbor Discovery Protocol\">NDP</a></li>\\n<li><a href=\"/wiki/Open_Shortest_Path_First\" title=\"Open Shortest Path First\">OSPF</a></li>\\n<li><a href=\"/wiki/Tunneling_protocol\" title=\"Tunneling protocol\">Tunnels</a>\\n<ul>\\n<li><a href=\"/wiki/Layer_2_Tunneling_Protocol\" title=\"Layer 2 Tunneling Protocol\">L2TP</a></li>\\n</ul>\\n</li>\\n<li><a href=\"/wiki/Point-to-Point_Protocol\" title=\"Point-to-Point Protocol\">PPP</a></li>\\n<li><a href=\"/wiki/Media_access_control\" title=\"Media access control\">MAC</a>\\n<ul>\\n<li><a href=\"/wiki/Ethernet\" title=\"Ethernet\">Ethernet</a></li>\\n<li><a href=\"/wiki/Digital_subscriber_line\" title=\"Digital subscriber line\">DSL</a></li>\\n<li><a href=\"/wiki/Integrated_Services_Digital_Network\" title=\"Integrated Services Digital Network\">ISDN</a></li>\\n<li><a href=\"/wiki/Fiber_Distributed_Data_Interface\" title=\"Fiber Distributed Data Interface\">FDDI</a></li>\\n</ul>\\n</li>\\n<li><a href=\"/wiki/Category:Link_protocols\" title=\"Category:Link protocols\"><i>more...</i></a></li>\\n</ul>\\n</td>\\n</tr>\\n<tr>\\n<td style=\"text-align:right;font-size:115%\">\\n<div class=\"plainlinks hlist navbar mini\">\\n<ul>\\n<li class=\"nv-view\"><a href=\"/wiki/Template:IPstack\" title=\"Template:IPstack\"><abbr title=\"View this template\">v</abbr></a></li>\\n<li class=\"nv-talk\"><a href=\"/wiki/Template_talk:IPstack\" title=\"Template talk:IPstack\"><abbr title=\"Discuss this template\">t</abbr></a></li>\\n<li class=\"nv-edit\"><a class=\"external text\" href=\"//en.wikipedia.org/w/index.php?title=Template:IPstack&amp;action=edit\"><abbr title=\"Edit this template\">e</abbr></a></li>\\n</ul>\\n</div>\\n</td>\\n</tr>\\n</table>, <p><b>MQTT</b><sup class=\"reference\" id=\"cite_ref-1\"><a href=\"#cite_note-1\">[1]</a></sup> (<b>MQ Telemetry Transport</b>) is an ISO standard (ISO/IEC PRF 20922)<sup class=\"reference\" id=\"cite_ref-ISO_2-0\"><a href=\"#cite_note-ISO-2\">[2]</a></sup> <a href=\"/wiki/Publish%E2%80%93subscribe_pattern\" title=\"Publish\\u2013subscribe pattern\">publish-subscribe</a>-based \"lightweight\" messaging protocol for use on top of the <a class=\"mw-redirect\" href=\"/wiki/TCP/IP\" title=\"TCP/IP\">TCP/IP protocol</a>. It is designed for connections with remote locations where a \"small code footprint\" is required or the network bandwidth is limited. The <a href=\"/wiki/Publish%E2%80%93subscribe_pattern\" title=\"Publish\\u2013subscribe pattern\">publish-subscribe messaging pattern</a> requires a <a href=\"/wiki/Message_broker\" title=\"Message broker\">message broker</a>. The <a class=\"mw-redirect\" href=\"/wiki/Broker_(service-oriented_architecture)\" title=\"Broker (service-oriented architecture)\">broker</a> is responsible for distributing <a href=\"/wiki/Messaging_pattern\" title=\"Messaging pattern\">messages</a> to interested clients based on the topic of a message. <a href=\"/wiki/Andy_Stanford-Clark\" title=\"Andy Stanford-Clark\">Andy Stanford-Clark</a> and Arlen Nipper of <a class=\"external text\" href=\"http://www.cirrus-link.com\" rel=\"nofollow\">Cirrus Link Solutions</a> authored the first version of the protocol in 1999.</p>, <p>The specification does not specify the meaning of \"small code footprint\" or the meaning of \"limited network bandwidth\". Thus, the protocol's availability for use depends on the context. In 2013, IBM submitted MQTT v3.1 to the <a href=\"/wiki/OASIS_(organization)\" title=\"OASIS (organization)\">OASIS</a> specification body with a charter that ensured only minor changes to the specification could be accepted.<sup class=\"reference\" id=\"cite_ref-3\"><a href=\"#cite_note-3\">[3]</a></sup> MQTT-SN <sup class=\"reference\" id=\"cite_ref-4\"><a href=\"#cite_note-4\">[4]</a></sup> is a variation of the main protocol aimed at embedded devices on non-TCP/IP networks, such as <a href=\"/wiki/ZigBee\" title=\"ZigBee\">ZigBee</a>.</p>, <p>Historically, the \"MQ\" in \"MQTT\" came from IBM's MQ Series <a class=\"mw-redirect\" href=\"/wiki/Message_queuing\" title=\"Message queuing\">message queuing</a> product line.<sup class=\"reference\" id=\"cite_ref-5\"><a href=\"#cite_note-5\">[5]</a></sup> However, queuing itself is not required to be supported as a standard feature in all situations.<sup class=\"reference\" id=\"cite_ref-6\"><a href=\"#cite_note-6\">[6]</a></sup></p>, <p>Alternative protocols include the <a href=\"/wiki/Advanced_Message_Queuing_Protocol\" title=\"Advanced Message Queuing Protocol\">Advanced Message Queuing Protocol</a>, the IETF <a href=\"/wiki/Constrained_Application_Protocol\" title=\"Constrained Application Protocol\">Constrained Application Protocol</a>,<sup class=\"reference\" id=\"cite_ref-7\"><a href=\"#cite_note-7\">[7]</a></sup> <a href=\"/wiki/XMPP\" title=\"XMPP\">XMPP</a><sup class=\"reference\" id=\"cite_ref-8\"><a href=\"#cite_note-8\">[8]</a></sup><sup class=\"reference\" id=\"cite_ref-9\"><a href=\"#cite_note-9\">[9]</a></sup> and <a href=\"/wiki/Web_Application_Messaging_Protocol\" title=\"Web Application Messaging Protocol\">Web Application Messaging Protocol (WAMP)</a>.</p>, <p></p>, <div class=\"toc\" id=\"toc\">\\n<div id=\"toctitle\">\\n<h2>Contents</h2>\\n</div>\\n<ul>\\n<li class=\"toclevel-1 tocsection-1\"><a href=\"#MQTT_methods\"><span class=\"tocnumber\">1</span> <span class=\"toctext\">MQTT methods</span></a></li>\\n<li class=\"toclevel-1 tocsection-2\"><a href=\"#Real-world_applications\"><span class=\"tocnumber\">2</span> <span class=\"toctext\">Real-world applications</span></a></li>\\n<li class=\"toclevel-1 tocsection-3\"><a href=\"#References\"><span class=\"tocnumber\">3</span> <span class=\"toctext\">References</span></a></li>\\n<li class=\"toclevel-1 tocsection-4\"><a href=\"#External_links\"><span class=\"tocnumber\">4</span> <span class=\"toctext\">External links</span></a></li>\\n</ul>\\n</div>, <p></p>], [<h2><span class=\"mw-headline\" id=\"MQTT_methods\">MQTT methods</span><span class=\"mw-editsection\"><span class=\"mw-editsection-bracket\">[</span><a href=\"/w/index.php?title=MQTT&amp;action=edit&amp;section=1\" title=\"Edit section: MQTT methods\">edit</a><span class=\"mw-editsection-bracket\">]</span></span></h2>, <p>MQTT defines methods (sometimes referred to as <i>verbs</i>) to indicate the desired action to be performed on the identified resource. What this resource represents, whether pre-existing data or data that is generated dynamically, depends on the implementation of the server. Often, the resource corresponds to a file or the output of an executable residing on the server.</p>, <dl>\\n<dt>Connect</dt>\\n<dd>Waits for a connection to be established with the server.</dd>\\n</dl>, <dl>\\n<dt>Disconnect</dt>\\n<dd>Waits for the MQTT client to finish any work it must do, and for the <a class=\"mw-redirect\" href=\"/wiki/TCP/IP\" title=\"TCP/IP\">TCP/IP</a> session to disconnect.</dd>\\n</dl>, <dl>\\n<dt>Subscribe</dt>\\n<dd>Waits for completion of the Subscribe or UnSubscribe method.</dd>\\n</dl>, <dl>\\n<dt>UnSubscribe</dt>\\n<dd>Requests the server unsubscribe the client from one or more topics.</dd>\\n</dl>, <dl>\\n<dt>Publish</dt>\\n<dd>Returns immediately to the application thread after passing the request to the MQTT client.</dd>\\n</dl>], [<h2><span class=\"mw-headline\" id=\"Real-world_applications\">Real-world applications</span><span class=\"mw-editsection\"><span class=\"mw-editsection-bracket\">[</span><a href=\"/w/index.php?title=MQTT&amp;action=edit&amp;section=2\" title=\"Edit section: Real-world applications\">edit</a><span class=\"mw-editsection-bracket\">]</span></span></h2>, <p>MQTT is designed to support wireless networks with varying levels of latency due to occasional bandwidth constraints or unreliable connections.<sup class=\"reference\" id=\"cite_ref-10\"><a href=\"#cite_note-10\">[10]</a></sup> There are several projects that implement MQTT.</p>, <ul>\\n<li><a href=\"/wiki/Facebook_Messenger\" title=\"Facebook Messenger\">Facebook Messenger</a>. Facebook has used aspects of MQTT in Facebook Messenger for <a href=\"/wiki/Online_chat\" title=\"Online chat\">online chat</a>.<sup class=\"reference\" id=\"cite_ref-11\"><a href=\"#cite_note-11\">[11]</a></sup> However, it is unclear how much of MQTT is used or for what.</li>\\n<li><a class=\"external text\" href=\"http://www.irse.org/knowledge/publicdocuments/3.09%20Wood%20-%20Message%20broker%20technology%20for%20flexible%20signalling%20control.pdf\" rel=\"nofollow\">IECC Scalable</a> DeltaRail's latest version of their IECC Signaling Control System uses MQTT for communications within the various parts of the system and other components of the signaling system. It provides the underlying communications framework for a system that is compliant with the CENELEC standards for safety-critical communications.</li>\\n<li>The <a href=\"/wiki/EVRYTHNG\" title=\"EVRYTHNG\">EVRYTHNG</a> IoT platform uses MQTT as an <a href=\"/wiki/Machine_to_machine\" title=\"Machine to machine\">M2M</a> protocol for millions of connected products.</li>\\n<li>On October 8, 2015 <a href=\"/wiki/Amazon_Web_Services\" title=\"Amazon Web Services\">Amazon Web Services</a> announced Amazon IoT based on MQTT.<sup class=\"reference\" id=\"cite_ref-12\"><a href=\"#cite_note-12\">[12]</a></sup></li>\\n<li>The <a href=\"/wiki/Open_Geospatial_Consortium\" title=\"Open Geospatial Consortium\">Open Geospatial Consortium</a> <a href=\"/wiki/SensorThings_API\" title=\"SensorThings API\">SensorThings API</a> standard specification has a MQTT extension in the standard as an additional message protocol binding. It was demonstrated in a US Department of Homeland Security IoT Pilot.<sup class=\"reference\" id=\"cite_ref-13\"><a href=\"#cite_note-13\">[13]</a></sup></li>\\n<li>The <a href=\"/wiki/OpenStack\" title=\"OpenStack\">OpenStack</a> Upstream Infrastructure uses MQTT as a unified message bus between services <sup class=\"reference\" id=\"cite_ref-14\"><a href=\"#cite_note-14\">[14]</a></sup></li>\\n</ul>], [<h2><span class=\"mw-headline\" id=\"References\">References</span><span class=\"mw-editsection\"><span class=\"mw-editsection-bracket\">[</span><a href=\"/w/index.php?title=MQTT&amp;action=edit&amp;section=3\" title=\"Edit section: References\">edit</a><span class=\"mw-editsection-bracket\">]</span></span></h2>, <div class=\"reflist columns references-column-width\" style=\"-moz-column-width: 30em; -webkit-column-width: 30em; column-width: 30em; list-style-type: decimal;\">\\n<ol class=\"references\">\\n<li id=\"cite_note-1\"><span class=\"mw-cite-backlink\"><b><a href=\"#cite_ref-1\">^</a></b></span> <span class=\"reference-text\"><a class=\"external text\" href=\"http://docs.oasis-open.org/mqtt/mqtt/v3.1.1/mqtt-v3.1.1.html\" rel=\"nofollow\">MQTT 3.1.1 specification</a></span></li>\\n<li id=\"cite_note-ISO-2\"><span class=\"mw-cite-backlink\"><b><a href=\"#cite_ref-ISO_2-0\">^</a></b></span> <span class=\"reference-text\"><a class=\"external free\" href=\"http://www.iso.org/iso/catalogue_detail.htm?csnumber=69466\" rel=\"nofollow\">http://www.iso.org/iso/catalogue_detail.htm?csnumber=69466</a></span></li>\\n<li id=\"cite_note-3\"><span class=\"mw-cite-backlink\"><b><a href=\"#cite_ref-3\">^</a></b></span> <span class=\"reference-text\"><cite class=\"citation web\"><a class=\"external text\" href=\"https://www.oasis-open.org/committees/mqtt/charter.php\" rel=\"nofollow\">\"OASIS Message Queuing Telemetry Transport (MQTT) Technical Committee\"</a>. OASIS<span class=\"reference-accessdate\">. Retrieved <span class=\"nowrap\">9 May</span> 2014</span>.</cite><span class=\"Z3988\" title=\"ctx_ver=Z39.88-2004&amp;rfr_id=info%3Asid%2Fen.wikipedia.org%3AMQTT&amp;rft.btitle=OASIS+Message+Queuing+Telemetry+Transport+%28MQTT%29+Technical+Committee&amp;rft.genre=unknown&amp;rft_id=https%3A%2F%2Fwww.oasis-open.org%2Fcommittees%2Fmqtt%2Fcharter.php&amp;rft.pub=OASIS&amp;rft_val_fmt=info%3Aofi%2Ffmt%3Akev%3Amtx%3Abook\"><span style=\"display:none;\">\\xa0</span></span></span></li>\\n<li id=\"cite_note-4\"><span class=\"mw-cite-backlink\"><b><a href=\"#cite_ref-4\">^</a></b></span> <span class=\"reference-text\"><cite class=\"citation web\">Andy, Stephen Clark. <a class=\"external text\" href=\"http://mqtt.org/MQTT-S_spec_v1.2.pdf\" rel=\"nofollow\">\"MQTT For Sensor Networks (MQTT-SN) Protocol Specification Version 1.2\"</a> <span style=\"font-size:85%;\">(PDF)</span><span class=\"reference-accessdate\">. Retrieved <span class=\"nowrap\">9 May</span> 2014</span>.</cite><span class=\"Z3988\" title=\"ctx_ver=Z39.88-2004&amp;rfr_id=info%3Asid%2Fen.wikipedia.org%3AMQTT&amp;rft.aufirst=Stephen+Clark&amp;rft.aulast=Andy&amp;rft.btitle=MQTT+For+Sensor+Networks+%28MQTT-SN%29+Protocol+Specification+Version+1.2&amp;rft.genre=unknown&amp;rft_id=http%3A%2F%2Fmqtt.org%2FMQTT-S_spec_v1.2.pdf&amp;rft_val_fmt=info%3Aofi%2Ffmt%3Akev%3Amtx%3Abook\"><span style=\"display:none;\">\\xa0</span></span></span></li>\\n<li id=\"cite_note-5\"><span class=\"mw-cite-backlink\"><b><a href=\"#cite_ref-5\">^</a></b></span> <span class=\"reference-text\"><a class=\"external text\" href=\"http://www-03.ibm.com/software/products/en/wmq/\" rel=\"nofollow\">IBM WebSphere MQ</a> Date accessed 2013-11-18</span></li>\\n<li id=\"cite_note-6\"><span class=\"mw-cite-backlink\"><b><a href=\"#cite_ref-6\">^</a></b></span> <span class=\"reference-text\"><a class=\"external text\" href=\"http://blogs.vmware.com/vfabric/2013/02/choosing-your-messaging-protocol-amqp-mqtt-or-stomp.html\" rel=\"nofollow\">Choosing Your Messaging Protocol: AMQP, MQTT, or STOMP | VMware vFabric Blog - VMware Blogs</a>. Blogs.vmware.com (2013-02-19). Retrieved 2013-10-23.</span></li>\\n<li id=\"cite_note-7\"><span class=\"mw-cite-backlink\"><b><a href=\"#cite_ref-7\">^</a></b></span> <span class=\"reference-text\"><cite class=\"citation web\"><a class=\"external text\" href=\"https://tools.ietf.org/html/rfc7252\" rel=\"nofollow\">\"Constrained Application Protocol (CoAP) RFC 7252\"</a>. The Internet Engineering Task Force (IETF)<span class=\"reference-accessdate\">. Retrieved <span class=\"nowrap\">15 November</span> 2015</span>.</cite><span class=\"Z3988\" title=\"ctx_ver=Z39.88-2004&amp;rfr_id=info%3Asid%2Fen.wikipedia.org%3AMQTT&amp;rft.btitle=Constrained+Application+Protocol+%28CoAP%29+RFC+7252&amp;rft.genre=unknown&amp;rft_id=https%3A%2F%2Ftools.ietf.org%2Fhtml%2Frfc7252&amp;rft.pub=The+Internet+Engineering+Task+Force+%28IETF%29&amp;rft_val_fmt=info%3Aofi%2Ffmt%3Akev%3Amtx%3Abook\"><span style=\"display:none;\">\\xa0</span></span></span></li>\\n<li id=\"cite_note-8\"><span class=\"mw-cite-backlink\"><b><a href=\"#cite_ref-8\">^</a></b></span> <span class=\"reference-text\"><cite class=\"citation web\"><a class=\"external text\" href=\"http://wiki.xmpp.org/web/InternetOfThings\" rel=\"nofollow\">\"InternetOfThings\"</a>. XMPP WIKI<span class=\"reference-accessdate\">. Retrieved <span class=\"nowrap\">9 May</span> 2014</span>.</cite><span class=\"Z3988\" title=\"ctx_ver=Z39.88-2004&amp;rfr_id=info%3Asid%2Fen.wikipedia.org%3AMQTT&amp;rft.btitle=InternetOfThings&amp;rft.genre=unknown&amp;rft_id=http%3A%2F%2Fwiki.xmpp.org%2Fweb%2FInternetOfThings&amp;rft.pub=XMPP+WIKI&amp;rft_val_fmt=info%3Aofi%2Ffmt%3Akev%3Amtx%3Abook\"><span style=\"display:none;\">\\xa0</span></span></span></li>\\n<li id=\"cite_note-9\"><span class=\"mw-cite-backlink\"><b><a href=\"#cite_ref-9\">^</a></b></span> <span class=\"reference-text\"><cite class=\"citation web\"><a class=\"external text\" href=\"https://datatracker.ietf.org/doc/rfc6272/\" rel=\"nofollow\">\"Internet Protocols for the Smart Grid RFC 6272\"</a>. IETF<span class=\"reference-accessdate\">. Retrieved <span class=\"nowrap\">9 May</span> 2014</span>.</cite><span class=\"Z3988\" title=\"ctx_ver=Z39.88-2004&amp;rfr_id=info%3Asid%2Fen.wikipedia.org%3AMQTT&amp;rft.btitle=Internet+Protocols+for+the+Smart+Grid+RFC+6272&amp;rft.genre=unknown&amp;rft_id=https%3A%2F%2Fdatatracker.ietf.org%2Fdoc%2Frfc6272%2F&amp;rft.pub=IETF&amp;rft_val_fmt=info%3Aofi%2Ffmt%3Akev%3Amtx%3Abook\"><span style=\"display:none;\">\\xa0</span></span></span></li>\\n<li id=\"cite_note-10\"><span class=\"mw-cite-backlink\"><b><a href=\"#cite_ref-10\">^</a></b></span> <span class=\"reference-text\"><a class=\"external free\" href=\"http://internetofthingsagenda.techtarget.com/definition/MQTT-MQ-Telemetry-Transport\" rel=\"nofollow\">http://internetofthingsagenda.techtarget.com/definition/MQTT-MQ-Telemetry-Transport</a></span></li>\\n<li id=\"cite_note-11\"><span class=\"mw-cite-backlink\"><b><a href=\"#cite_ref-11\">^</a></b></span> <span class=\"reference-text\"><cite class=\"citation web\"><a class=\"external text\" href=\"https://www.facebook.com/notes/facebook-engineering/building-facebook-messenger/10150259350998920\" rel=\"nofollow\">\"Building Facebook Messenger\"</a><span class=\"reference-accessdate\">. Retrieved <span class=\"nowrap\">15 October</span> 2015</span>.</cite><span class=\"Z3988\" title=\"ctx_ver=Z39.88-2004&amp;rfr_id=info%3Asid%2Fen.wikipedia.org%3AMQTT&amp;rft.btitle=Building+Facebook+Messenger&amp;rft.genre=unknown&amp;rft_id=https%3A%2F%2Fwww.facebook.com%2Fnotes%2Ffacebook-engineering%2Fbuilding-facebook-messenger%2F10150259350998920&amp;rft_val_fmt=info%3Aofi%2Ffmt%3Akev%3Amtx%3Abook\"><span style=\"display:none;\">\\xa0</span></span></span></li>\\n<li id=\"cite_note-12\"><span class=\"mw-cite-backlink\"><b><a href=\"#cite_ref-12\">^</a></b></span> <span class=\"reference-text\"><cite class=\"citation web\"><a class=\"external text\" href=\"https://aws.amazon.com/blogs/aws/aws-iot-cloud-services-for-connected-devices/\" rel=\"nofollow\">\"AWS IoT \\u2013 Cloud Services for Connected Devices\"</a><span class=\"reference-accessdate\">. Retrieved <span class=\"nowrap\">21 October</span> 2015</span>.</cite><span class=\"Z3988\" title=\"ctx_ver=Z39.88-2004&amp;rfr_id=info%3Asid%2Fen.wikipedia.org%3AMQTT&amp;rft.btitle=AWS+IoT+%93+Cloud+Services+for+Connected+Devices&amp;rft.genre=unknown&amp;rft_id=https%3A%2F%2Faws.amazon.com%2Fblogs%2Faws%2Faws-iot-cloud-services-for-connected-devices%2F&amp;rft_val_fmt=info%3Aofi%2Ffmt%3Akev%3Amtx%3Abook\"><span style=\"display:none;\">\\xa0</span></span></span></li>\\n<li id=\"cite_note-13\"><span class=\"mw-cite-backlink\"><b><a href=\"#cite_ref-13\">^</a></b></span> <span class=\"reference-text\"><cite class=\"citation web\"><a class=\"external text\" href=\"https://www.dhs.gov/science-and-technology/blog/2016/01/25/st-internet-things-pilot-demonstrates-state-practical\" rel=\"nofollow\">\"S&amp;T's Internet of Things Pilot Demonstrates 'State of the Practical<span style=\"padding-right:0.2em;\">'</span>\"</a><span class=\"reference-accessdate\">. Retrieved <span class=\"nowrap\">31 March</span> 2016</span>.</cite><span class=\"Z3988\" title=\"ctx_ver=Z39.88-2004&amp;rfr_id=info%3Asid%2Fen.wikipedia.org%3AMQTT&amp;rft.btitle=S%26T%99s+Internet+of+Things+Pilot+Demonstrates+%98State+of+the+Practical%99&amp;rft.genre=unknown&amp;rft_id=https%3A%2F%2Fwww.dhs.gov%2Fscience-and-technology%2Fblog%2F2016%2F01%2F25%2Fst-internet-things-pilot-demonstrates-state-practical&amp;rft_val_fmt=info%3Aofi%2Ffmt%3Akev%3Amtx%3Abook\"><span style=\"display:none;\">\\xa0</span></span></span></li>\\n<li id=\"cite_note-14\"><span class=\"mw-cite-backlink\"><b><a href=\"#cite_ref-14\">^</a></b></span> <span class=\"reference-text\"><cite class=\"citation web\"><a class=\"external text\" href=\"http://docs.openstack.org/infra/system-config/firehose.html\" rel=\"nofollow\">\"OpenStack Infra Firehose\"</a><span class=\"reference-accessdate\">. Retrieved <span class=\"nowrap\">30 August</span> 2016</span>.</cite><span class=\"Z3988\" title=\"ctx_ver=Z39.88-2004&amp;rfr_id=info%3Asid%2Fen.wikipedia.org%3AMQTT&amp;rft.btitle=OpenStack+Infra+Firehose&amp;rft.genre=unknown&amp;rft_id=http%3A%2F%2Fdocs.openstack.org%2Finfra%2Fsystem-config%2Ffirehose.html&amp;rft_val_fmt=info%3Aofi%2Ffmt%3Akev%3Amtx%3Abook\"><span style=\"display:none;\">\\xa0</span></span></span></li>\\n</ol>\\n</div>], [<h2><span class=\"mw-headline\" id=\"External_links\">External links</span><span class=\"mw-editsection\"><span class=\"mw-editsection-bracket\">[</span><a href=\"/w/index.php?title=MQTT&amp;action=edit&amp;section=4\" title=\"Edit section: External links\">edit</a><span class=\"mw-editsection-bracket\">]</span></span></h2>, <ul>\\n<li><span class=\"official-website\"><span class=\"url\"><a class=\"external text\" href=\"http://mqtt.org/\" rel=\"nofollow\">Official website</a></span></span></li>\\n<li><a class=\"external text\" href=\"https://github.com/mqtt/mqtt.github.io/wiki\" rel=\"nofollow\">MQTT community wiki</a> on <a href=\"/wiki/GitHub\" title=\"GitHub\">GitHub</a></li>\\n<li><a class=\"external text\" href=\"http://www.hivemq.com/blog/mqtt-essentials/\" rel=\"nofollow\">MQTT Essentials at HiveMQ</a>.</li>\\n<li><a class=\"external text\" href=\"http://www.eejournal.com/blog/is-exactly-once-delivery-possible-with-mqtt/\" rel=\"nofollow\">Is Exactly-Once Delivery Possible with MQTT</a></li>\\n<li><a class=\"external text\" href=\"https://media.defcon.org/DEF%20CON%2024/DEF%20CON%2024%20presentations/DEFCON-24-Lucas-Lundgren-Light-Weight%20Protocol-Critical-Implications.pdf\" rel=\"nofollow\">Is your personal information available via public MQTT brokers?</a></li>\\n</ul>]]"
      ],
      "text/plain": [
       "<IPython.core.display.HTML object>"
      ]
     },
     "execution_count": 52,
     "metadata": {},
     "output_type": "execute_result"
    }
   ],
   "source": [
    "#HTML(str(pageData)[:6796])\n",
    "\n",
    "HTML(str(pageData['sections']))"
   ]
  },
  {
   "cell_type": "markdown",
   "metadata": {},
   "source": [
    "Get page links"
   ]
  },
  {
   "cell_type": "code",
   "execution_count": 53,
   "metadata": {
    "collapsed": false
   },
   "outputs": [
    {
     "name": "stdout",
     "output_type": "stream",
     "text": [
      "(u'tcp', 4)\n",
      "(u'ip', 4)\n",
      "(u'xmpp', 3)\n",
      "(u'tcp/ip', 3)\n",
      "(u'facebook messenger', 3)\n",
      "(u'http', 3)\n",
      "(u'message queuing', 3)\n",
      "(u'oasis', 3)\n",
      "(u'openstack', 2)\n",
      "(u'constrained application protocol', 2)\n",
      "(u'broker', 2)\n",
      "(u'publish-subscribe', 2)\n",
      "(u't', 2)\n",
      "(u'arp', 1)\n",
      "(u'evrythng', 1)\n",
      "(u'internet layer', 1)\n",
      "(u'zigbee', 1)\n",
      "(u'rtsp', 1)\n",
      "(u'smtp', 1)\n",
      "(u'pop', 1)\n",
      "(u'ppp', 1)\n",
      "(u'rtp', 1)\n",
      "(u'tls/ssl', 1)\n",
      "(u'amazon web services', 1)\n",
      "(u'dccp', 1)\n",
      "(u'igmp', 1)\n",
      "(u'ftp', 1)\n",
      "(u'sip', 1)\n",
      "(u'snmp', 1)\n",
      "(u'application layer', 1)\n",
      "(u'sensorthings api', 1)\n",
      "(u'onc/rpc', 1)\n",
      "(u'm2m', 1)\n",
      "(u'dsl', 1)\n",
      "(u'l2tp', 1)\n",
      "(u'ipv4', 1)\n",
      "(u'dns', 1)\n",
      "(u'ldap', 1)\n",
      "(u'dhcp', 1)\n",
      "(u'sctp', 1)\n",
      "(u'nntp', 1)\n",
      "(u'tunnels', 1)\n",
      "(u'rsvp', 1)\n",
      "(u'andy stanford-clark', 1)\n",
      "(u'ecn', 1)\n",
      "(u'udp', 1)\n",
      "(u'ntp', 1)\n",
      "(u'ipv6', 1)\n",
      "(u'transport layer', 1)\n",
      "(u'open geospatial consortium', 1)\n",
      "(u'mac', 1)\n",
      "(u'telnet', 1)\n",
      "(u'rip', 1)\n",
      "(u'ndp', 1)\n",
      "(u'ipsec', 1)\n",
      "(u'icmp', 1)\n",
      "(u'imap', 1)\n",
      "(u'fddi', 1)\n",
      "(u'isdn', 1)\n",
      "(u'message broker', 1)\n",
      "(u'github', 1)\n",
      "(u'internet protocol suite', 1)\n",
      "(u'online chat', 1)\n",
      "(u'advanced message queuing protocol', 1)\n",
      "(u'tcp/ip protocol', 1)\n",
      "(u'messages', 1)\n",
      "(u'mgcp', 1)\n",
      "(u'bgp', 1)\n",
      "(u'icmpv6', 1)\n",
      "(u'publish-subscribe messaging pattern', 1)\n",
      "(u'v', 1)\n",
      "(u'ethernet', 1)\n",
      "(u'ospf', 1)\n",
      "(u'link layer', 1)\n",
      "(u'ssh', 1)\n",
      "(u'more...', 0)\n",
      "(u'web application messaging protocol (wamp)', 0)\n"
     ]
    }
   ],
   "source": [
    "soup = pageData['full']\n",
    "\n",
    "#Get the wikilinks texts and build a set of target word\n",
    "targetWords = set([link.text.lower() for link in soup.findAll('a') if link['href'][0:6] == '/wiki/'])\n",
    "\n",
    "#Dict to store words occurrences (default value is 0)\n",
    "wordsOccur = defaultdict(int)\n",
    "\n",
    "#Check occurrences ot the target words on the article text and compute number of matches\n",
    "for tWord in targetWords:\n",
    "    if tWord == \"\":\n",
    "        continue\n",
    "    try:\n",
    "        #User regex to match\n",
    "        #User \\b at the start and end to specify word bondaries\n",
    "        matches = re.findall('\\\\b' + re.escape(tWord) + '\\\\b', soup.text, re.IGNORECASE)\n",
    "        #matches = re.findall(tWord, soup.text, re.IGNORECASE)\n",
    "        wordsOccur[tWord] = len(matches)\n",
    "    except:\n",
    "        pass\n",
    "\n",
    "#Function to return the sort anchor\n",
    "def getKey(elem):\n",
    "    return elem[1]\n",
    "\n",
    "wordOccurList = sorted(wordsOccur.items(),key=getKey, reverse=True)\n",
    "\n",
    "sumValues = 0\n",
    "#Sum all words occurrences\n",
    "for w in list(wordOccurList):\n",
    "    sumValues += w[1]\n",
    "\n",
    "#print result\n",
    "for w in list(wordOccurList):\n",
    "#for w in targetWords:\n",
    "    print w"
   ]
  },
  {
   "cell_type": "code",
   "execution_count": null,
   "metadata": {
    "collapsed": true
   },
   "outputs": [],
   "source": []
  }
 ],
 "metadata": {
  "anaconda-cloud": {},
  "kernelspec": {
   "display_name": "Python [default]",
   "language": "python",
   "name": "python2"
  },
  "language_info": {
   "codemirror_mode": {
    "name": "ipython",
    "version": 2
   },
   "file_extension": ".py",
   "mimetype": "text/x-python",
   "name": "python",
   "nbconvert_exporter": "python",
   "pygments_lexer": "ipython2",
   "version": "2.7.12"
  }
 },
 "nbformat": 4,
 "nbformat_minor": 1
}
